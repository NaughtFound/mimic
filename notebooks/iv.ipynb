{
 "cells": [
  {
   "cell_type": "code",
   "execution_count": 1,
   "id": "9fdc9a5a",
   "metadata": {},
   "outputs": [],
   "source": [
    "import sys\n",
    "import os\n",
    "\n",
    "SCRIPT_DIR = os.path.dirname(os.path.abspath(\".\"))\n",
    "sys.path.append(SCRIPT_DIR)"
   ]
  },
  {
   "cell_type": "code",
   "execution_count": 2,
   "id": "a46399b3",
   "metadata": {},
   "outputs": [],
   "source": [
    "from datasets import MIMIC_IV, MIMIC_IV_Sheet\n",
    "from utils.env import Env\n",
    "from utils.scaler import MinMax_Scaler, Ordinal_Encoder\n",
    "\n",
    "Env.load()"
   ]
  },
  {
   "cell_type": "code",
   "execution_count": null,
   "id": "482ff9b5",
   "metadata": {},
   "outputs": [],
   "source": [
    "patients_sheet = MIMIC_IV_Sheet(\n",
    "    root=\"./data\",\n",
    "    db_path=os.path.join(MIMIC_IV.get_raw_folder(\"./data\"), \"dataset.db\"),\n",
    "    columns={\n",
    "        \"subject_id\": \"int\",\n",
    "        \"gender\": \"string\",\n",
    "        \"anchor_age\": \"int\",\n",
    "    },\n",
    "    id_column=\"subject_id\",\n",
    "    scaler=[\n",
    "        MinMax_Scaler(transform_columns=[\"anchor_age\"], train=True),\n",
    "        Ordinal_Encoder(transform_columns=[\"gender\"], train=True),\n",
    "    ],\n",
    "    train=True,\n",
    "    table_name=\"patients\",\n",
    ")"
   ]
  },
  {
   "cell_type": "code",
   "execution_count": 4,
   "id": "f2666f03",
   "metadata": {},
   "outputs": [
    {
     "name": "stderr",
     "output_type": "stream",
     "text": [
      "Loading data: 100%|██████████| 1/1 [00:01<00:00,  1.66s/it]\n"
     ]
    }
   ],
   "source": [
    "dataset = MIMIC_IV(root=\"./data\", sheets={\"patients\": patients_sheet}, download=True)"
   ]
  }
 ],
 "metadata": {
  "kernelspec": {
   "display_name": "env",
   "language": "python",
   "name": "python3"
  },
  "language_info": {
   "codemirror_mode": {
    "name": "ipython",
    "version": 3
   },
   "file_extension": ".py",
   "mimetype": "text/x-python",
   "name": "python",
   "nbconvert_exporter": "python",
   "pygments_lexer": "ipython3",
   "version": "3.12.7"
  }
 },
 "nbformat": 4,
 "nbformat_minor": 5
}
