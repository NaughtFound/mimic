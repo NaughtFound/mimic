{
 "cells": [
  {
   "cell_type": "code",
   "execution_count": null,
   "id": "9fdc9a5a",
   "metadata": {},
   "outputs": [],
   "source": [
    "import sys\n",
    "import os\n",
    "\n",
    "SCRIPT_DIR = os.path.dirname(os.path.abspath(\".\"))\n",
    "sys.path.append(SCRIPT_DIR)"
   ]
  },
  {
   "cell_type": "code",
   "execution_count": null,
   "id": "a46399b3",
   "metadata": {},
   "outputs": [],
   "source": [
    "from mimic.datasets import MIMIC_CXR\n",
    "from mimic.utils.env import Env\n",
    "from mimic.utils.db import DuckDB\n",
    "\n",
    "Env.load()"
   ]
  },
  {
   "cell_type": "code",
   "execution_count": null,
   "id": "38213b4a",
   "metadata": {},
   "outputs": [],
   "source": [
    "import pandas as pd\n",
    "\n",
    "\n",
    "def transform_study(df: pd.DataFrame) -> pd.DataFrame:\n",
    "    return df"
   ]
  },
  {
   "cell_type": "code",
   "execution_count": null,
   "id": "a5f4a7db",
   "metadata": {},
   "outputs": [],
   "source": [
    "root = MIMIC_CXR.get_raw_folder(\"./data\")\n",
    "\n",
    "db = DuckDB(root=root, db_name=\"dataset.db\")"
   ]
  },
  {
   "cell_type": "code",
   "execution_count": null,
   "id": "f2666f03",
   "metadata": {},
   "outputs": [],
   "source": [
    "dataset = MIMIC_CXR(\n",
    "    root=\"./data\",\n",
    "    download=True,\n",
    "    db=db,\n",
    "    columns=\"*\",\n",
    "    drop_table=False,\n",
    "    force_insert=False,\n",
    "    mode=\"validate\",\n",
    ")"
   ]
  }
 ],
 "metadata": {
  "kernelspec": {
   "display_name": "env",
   "language": "python",
   "name": "python3"
  },
  "language_info": {
   "codemirror_mode": {
    "name": "ipython",
    "version": 3
   },
   "file_extension": ".py",
   "mimetype": "text/x-python",
   "name": "python",
   "nbconvert_exporter": "python",
   "pygments_lexer": "ipython3",
   "version": "3.12.7"
  }
 },
 "nbformat": 4,
 "nbformat_minor": 5
}
